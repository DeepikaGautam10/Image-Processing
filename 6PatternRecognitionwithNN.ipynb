{
 "cells": [
  {
   "cell_type": "code",
   "execution_count": 23,
   "id": "f969b43b",
   "metadata": {},
   "outputs": [
    {
     "data": {
      "image/png": "[encoded data removed]",
      "text/plain": [
       "<Figure size 1200x400 with 3 Axes>"
      ]
     },
     "metadata": {},
     "output_type": "display_data"
    }
   ],
   "source": [
    "import cv2 as cv\n",
    "import numpy as np\n",
    "import matplotlib.pyplot as plt\n",
    "\n",
    "# Load image and template (both in grayscale)\n",
    "img = cv.imread('shapes.png', 0)\n",
    "template = cv.imread('circle_template.png', 0)\n",
    "\n",
    "# Match template\n",
    "result = cv.matchTemplate(img, template, cv.TM_CCOEFF_NORMED)\n",
    "_, max_val, _, max_loc = cv.minMaxLoc(result)\n",
    "\n",
    "# Draw rectangle\n",
    "h, w = template.shape\n",
    "matched_img = cv.cvtColor(img, cv.COLOR_GRAY2BGR)\n",
    "cv.rectangle(matched_img, max_loc, (max_loc[0] + w, max_loc[1] + h), (0, 255, 0), 2)\n",
    "\n",
    "plt.figure(figsize=(12, 4))\n",
    "plt.subplot(1, 3, 1), plt.imshow(img, cmap='gray'), plt.title(\"Original\"), plt.axis('off')\n",
    "plt.subplot(1, 3, 2), plt.imshow(template, cmap='gray'), plt.title(\"Template\"), plt.axis('off')\n",
    "plt.subplot(1, 3, 3), plt.imshow(matched_img), plt.title(\"Matched\"), plt.axis('off')\n",
    "plt.show()"
   ]
  },
  {
   "cell_type": "code",
   "execution_count": 32,
   "id": "c3ac6308",
   "metadata": {},
   "outputs": [
    {
     "name": "stdout",
     "output_type": "stream",
     "text": [
      "              precision    recall  f1-score   support\n",
      "\n",
      "           0       1.00      1.00      1.00        14\n",
      "           1       1.00      1.00      1.00        24\n",
      "           2       1.00      1.00      1.00        22\n",
      "\n",
      "    accuracy                           1.00        60\n",
      "   macro avg       1.00      1.00      1.00        60\n",
      "weighted avg       1.00      1.00      1.00        60\n",
      "\n"
     ]
    }
   ],
   "source": [
    "from sklearn.neural_network import MLPClassifier\n",
    "from sklearn.model_selection import train_test_split\n",
    "from sklearn.metrics import classification_report\n",
    "\n",
    "def generate_shape_dataset(num=100):\n",
    "    data = []\n",
    "    labels = []\n",
    "    for _ in range(num):\n",
    "        shape_type = np.random.choice(['circle', 'square', 'triangle'])\n",
    "        img = np.zeros((64, 64), dtype=np.uint8)\n",
    "        if shape_type == 'circle':\n",
    "            cv.circle(img, (32, 32), 20, 255, -1)\n",
    "            labels.append(0)\n",
    "        elif shape_type == 'square':\n",
    "            cv.rectangle(img, (20, 20), (44, 44), 255, -1)\n",
    "            labels.append(1)\n",
    "        elif shape_type == 'triangle':\n",
    "            pts = np.array([[32, 10], [10, 54], [54, 54]], np.int32)\n",
    "            cv.fillPoly(img, [pts], 255)\n",
    "            labels.append(2)\n",
    "        data.append(img.flatten() / 255.0)\n",
    "    return np.array(data), np.array(labels)\n",
    "\n",
    "X, y = generate_shape_dataset(300)\n",
    "X_train, X_test, y_train, y_test = train_test_split(X, y, test_size=0.2)\n",
    "\n",
    "# ANN Classifier\n",
    "clf = MLPClassifier(hidden_layer_sizes=(100,), max_iter=500)\n",
    "clf.fit(X_train, y_train)\n",
    "y_pred = clf.predict(X_test)\n",
    "\n",
    "print(classification_report(y_test, y_pred))\n"
   ]
  },
  {
   "cell_type": "code",
   "execution_count": 36,
   "id": "108116e4",
   "metadata": {},
   "outputs": [
    {
     "name": "stdout",
     "output_type": "stream",
     "text": [
      "Epoch 1/5\n",
      "\u001b[1m1688/1688\u001b[0m \u001b[32m━━━━━━━━━━━━━━━━━━━━\u001b[0m\u001b[37m\u001b[0m \u001b[1m24s\u001b[0m 13ms/step - accuracy: 0.8936 - loss: 0.3510 - val_accuracy: 0.9843 - val_loss: 0.0555\n",
      "Epoch 2/5\n",
      "\u001b[1m1688/1688\u001b[0m \u001b[32m━━━━━━━━━━━━━━━━━━━━\u001b[0m\u001b[37m\u001b[0m \u001b[1m22s\u001b[0m 13ms/step - accuracy: 0.9823 - loss: 0.0557 - val_accuracy: 0.9877 - val_loss: 0.0422\n",
      "Epoch 3/5\n",
      "\u001b[1m1688/1688\u001b[0m \u001b[32m━━━━━━━━━━━━━━━━━━━━\u001b[0m\u001b[37m\u001b[0m \u001b[1m22s\u001b[0m 13ms/step - accuracy: 0.9888 - loss: 0.0349 - val_accuracy: 0.9882 - val_loss: 0.0418\n",
      "Epoch 4/5\n",
      "\u001b[1m1688/1688\u001b[0m \u001b[32m━━━━━━━━━━━━━━━━━━━━\u001b[0m\u001b[37m\u001b[0m \u001b[1m23s\u001b[0m 14ms/step - accuracy: 0.9923 - loss: 0.0240 - val_accuracy: 0.9915 - val_loss: 0.0330\n",
      "Epoch 5/5\n",
      "\u001b[1m1688/1688\u001b[0m \u001b[32m━━━━━━━━━━━━━━━━━━━━\u001b[0m\u001b[37m\u001b[0m \u001b[1m24s\u001b[0m 14ms/step - accuracy: 0.9949 - loss: 0.0163 - val_accuracy: 0.9893 - val_loss: 0.0394\n",
      "\u001b[1m313/313\u001b[0m \u001b[32m━━━━━━━━━━━━━━━━━━━━\u001b[0m\u001b[37m\u001b[0m \u001b[1m2s\u001b[0m 5ms/step - accuracy: 0.9867 - loss: 0.0442\n",
      "Test Accuracy: 98.96%\n"
     ]
    }
   ],
   "source": [
    "from tensorflow.keras import layers, models\n",
    "from tensorflow.keras.datasets import mnist\n",
    "\n",
    "# Load and preprocess data\n",
    "(x_train, y_train), (x_test, y_test) = mnist.load_data()\n",
    "x_train, x_test = x_train / 255.0, x_test / 255.0\n",
    "x_train = x_train[..., np.newaxis]\n",
    "x_test = x_test[..., np.newaxis]\n",
    "\n",
    "# Define CNN model\n",
    "model = models.Sequential([\n",
    "    layers.Conv2D(32, (3,3), activation='relu', input_shape=(28,28,1)),\n",
    "    layers.MaxPooling2D((2,2)),\n",
    "    layers.Conv2D(64, (3,3), activation='relu'),\n",
    "    layers.MaxPooling2D((2,2)),\n",
    "    layers.Flatten(),\n",
    "    layers.Dense(64, activation='relu'),\n",
    "    layers.Dense(10, activation='softmax')\n",
    "])\n",
    "\n",
    "# Compile and train\n",
    "model.compile(optimizer='adam', loss='sparse_categorical_crossentropy', metrics=['accuracy'])\n",
    "model.fit(x_train, y_train, epochs=5, validation_split=0.1)\n",
    "\n",
    "# Evaluate\n",
    "test_loss, test_acc = model.evaluate(x_test, y_test)\n",
    "print(f\"Test Accuracy: {test_acc * 100:.2f}%\")\n"
   ]
  }
 ],
 "metadata": {
  "kernelspec": {
   "display_name": "Python 3",
   "language": "python",
   "name": "python3"
  },
  "language_info": {
   "codemirror_mode": {
    "name": "ipython",
    "version": 3
   },
   "file_extension": ".py",
   "mimetype": "text/x-python",
   "name": "python",
   "nbconvert_exporter": "python",
   "pygments_lexer": "ipython3",
   "version": "3.12.6"
  }
 },
 "nbformat": 4,
 "nbformat_minor": 5
}
